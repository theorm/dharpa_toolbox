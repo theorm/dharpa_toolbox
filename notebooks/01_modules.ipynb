{
 "cells": [
  {
   "cell_type": "code",
   "execution_count": null,
   "metadata": {},
   "outputs": [],
   "source": [
    "# default_exp modules"
   ]
  },
  {
   "cell_type": "code",
   "execution_count": null,
   "metadata": {},
   "outputs": [],
   "source": [
    "#export\n",
    "\n",
    "from abc import ABCMeta\n",
    "from traitlets import HasTraits, Dict\n",
    "from abc import ABCMeta, abstractmethod\n",
    "from io import StringIO\n",
    "from typing import Optional, Mapping, Any\n",
    "import traittypes\n",
    "from IPython.display import display\n",
    "from ipywidgets import FileUpload, Output\n",
    "import pandas as pd\n",
    "\n",
    "class DharpaModule(metaclass=ABCMeta):\n",
    "\n",
    "    def __init__(self, **config):\n",
    "\n",
    "        self._config: Mapping[str, Any] = config\n",
    "        self._outputs: Mapping[str, Any] = None\n",
    "\n",
    "        self._values: HasTraits = self._get_values()\n",
    "        self._outputs: Mapping[str, Any] = self._get_outputs()\n",
    "\n",
    "    @property\n",
    "    def values(self):\n",
    "        return self._values\n",
    "\n",
    "    def test(self):\n",
    "        pass\n",
    "\n",
    "    @property\n",
    "    def outputs(self):\n",
    "        return self._outputs\n",
    "\n",
    "    @abstractmethod\n",
    "    def _get_values(self) -> HasTraits:\n",
    "        pass\n",
    "\n",
    "    @abstractmethod\n",
    "    def _get_outputs(self) -> Mapping[str, Any]:\n",
    "        pass\n",
    "\n",
    "class FileInputModule(DharpaModule):\n",
    "\n",
    "    def _get_values(self) -> HasTraits:\n",
    "\n",
    "        class InputFileValue(HasTraits):\n",
    "\n",
    "            file_details = Dict()\n",
    "            content_data = traittypes.DataFrame()\n",
    "\n",
    "        return InputFileValue()\n",
    "\n",
    "    def _get_outputs(self) -> Mapping[str, Any]:\n",
    "\n",
    "        uploaded_file_details = Output()\n",
    "        file_upload = FileUpload(accept=\".csv\", multiple=False)\n",
    "\n",
    "        def upload_handler(change):\n",
    "\n",
    "            uploaded_file = list(change.new.values())[0]\n",
    "            data = uploaded_file[\"content\"].decode(\"utf-8\")\n",
    "            df = pd.read_csv(StringIO(data), header='infer')\n",
    "\n",
    "            uploaded_file_details.clear_output()\n",
    "            with uploaded_file_details:\n",
    "                print(uploaded_file[\"metadata\"])\n",
    "                display(df)\n",
    "\n",
    "        file_upload.observe(upload_handler, names=['value'])\n",
    "\n",
    "        return {\n",
    "            \"file_details\": uploaded_file_details,\n",
    "            \"file_upload\": file_upload\n",
    "        }"
   ]
  },
  {
   "cell_type": "code",
   "execution_count": null,
   "metadata": {},
   "outputs": [
    {
     "name": "stdout",
     "output_type": "stream",
     "text": [
      "Converted 00_core.ipynb.\n",
      "Converted 01_modules.ipynb.\n"
     ]
    }
   ],
   "source": [
    "from nbdev.export import notebook2script; notebook2script()\n"
   ]
  }
 ],
 "metadata": {
  "kernelspec": {
   "display_name": "Python 3",
   "language": "python",
   "name": "python3"
  }
 },
 "nbformat": 4,
 "nbformat_minor": 0
}
