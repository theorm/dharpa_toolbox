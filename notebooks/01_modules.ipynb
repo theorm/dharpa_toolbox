{
 "cells": [
  {
   "cell_type": "code",
   "execution_count": null,
   "metadata": {},
   "outputs": [],
   "source": [
    "# default_exp modules"
   ]
  },
  {
   "cell_type": "code",
   "execution_count": null,
   "metadata": {},
   "outputs": [],
   "source": [
    "#export\n",
    "\n",
    "from abc import ABCMeta\n",
    "from dataclasses import dataclass, field\n",
    "from traitlets import HasTraits, Dict\n",
    "from abc import ABCMeta, abstractmethod\n",
    "from io import StringIO\n",
    "from typing import Optional, Mapping, Any, Iterable\n",
    "import traittypes\n",
    "from IPython.display import display\n",
    "from ipywidgets import FileUpload, Output, Widget\n",
    "import pandas as pd\n",
    "\n",
    "@dataclass\n",
    "class DisplayItem():\n",
    "    name: str\n",
    "    display_object: Widget\n",
    "    metadata: Mapping[str, Any] = field(default_factory=dict)\n",
    "\n",
    "    def __repr__(self):\n",
    "\n",
    "        return f\"{self.__class__.__name__}(name={self.name} display_type={self.display_object.__class__.__name__} metadata={self.metadata})\"\n",
    "\n",
    "\n",
    "class DharpaModule(metaclass=ABCMeta):\n",
    "\n",
    "    def __init__(self, **config):\n",
    "\n",
    "        self._config: Mapping[str, Any] = config\n",
    "        self._values: HasTraits = self._get_values()\n",
    "        self._display_items: Iterable[DisplayItem] = self._get_display_items()\n",
    "\n",
    "    @property\n",
    "    def values(self):\n",
    "        return self._values\n",
    "\n",
    "    def test(self):\n",
    "        pass\n",
    "\n",
    "    @property\n",
    "    def display_items(self):\n",
    "        return self._display_items\n",
    "\n",
    "    @abstractmethod\n",
    "    def _get_values(self) -> HasTraits:\n",
    "        pass\n",
    "\n",
    "    @abstractmethod\n",
    "    def _get_display_items(self) -> Iterable[DisplayItem]:\n",
    "        pass\n",
    "\n",
    "    def __repr__(self):\n",
    "\n",
    "        return f\"{self.__class__.__name__}(value_names={self.values.trait_names()} display_items={self.display_items})\"\n",
    "\n",
    "\n",
    "class FileInputModule(DharpaModule):\n",
    "\n",
    "    def _get_values(self) -> HasTraits:\n",
    "\n",
    "        class InputFileValue(HasTraits):\n",
    "\n",
    "            file_details = Dict()\n",
    "            content_data = traittypes.DataFrame()\n",
    "\n",
    "        return InputFileValue()\n",
    "\n",
    "    def _get_display_items(self) -> Iterable[DisplayItem]:\n",
    "\n",
    "        uploaded_file_details = Output()\n",
    "        file_upload = FileUpload(accept=\".csv\", multiple=False)\n",
    "\n",
    "        def upload_handler(change):\n",
    "\n",
    "            uploaded_file = list(change.new.values())[0]\n",
    "            data = uploaded_file[\"content\"].decode(\"utf-8\")\n",
    "            df = pd.read_csv(StringIO(data), header='infer')\n",
    "\n",
    "            uploaded_file_details.clear_output()\n",
    "            with uploaded_file_details:\n",
    "                print(uploaded_file[\"metadata\"])\n",
    "                display(df)\n",
    "\n",
    "        file_upload.observe(upload_handler, names=['value'])\n",
    "\n",
    "        return [DisplayItem(name=\"file_details\", display_object=uploaded_file_details),\n",
    "            DisplayItem(name=\"file_upload\", display_object=file_upload)]\n"
   ]
  },
  {
   "cell_type": "code",
   "execution_count": null,
   "metadata": {},
   "outputs": [
    {
     "name": "stdout",
     "output_type": "stream",
     "text": [
      "Converted 00_core.ipynb.\n",
      "Converted 01_modules.ipynb.\n",
      "Converted 02_workflows.ipynb.\n"
     ]
    }
   ],
   "source": [
    "from dharpa_toolbox.core import export_notebooks\n",
    "export_notebooks()\n"
   ]
  }
 ],
 "metadata": {
  "kernelspec": {
   "display_name": "Python 3",
   "language": "python",
   "name": "python3"
  }
 },
 "nbformat": 4,
 "nbformat_minor": 0
}
