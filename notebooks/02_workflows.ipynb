{
 "cells": [
  {
   "cell_type": "code",
   "execution_count": null,
   "metadata": {},
   "outputs": [],
   "source": [
    "from typing import Optional\n",
    "from traitlets import HasTraits, List, Dict\n",
    "from dharpa_toolbox.modules import DharpaModule\n",
    "\n",
    "# default_exp workflows\n",
    "\n",
    "#export\n",
    "class DharpaWorkflow(HasTraits):\n",
    "\n",
    "    modules = List()\n",
    "\n",
    "    def add_module(self, module: DharpaModule):\n",
    "        self.modules.append(module)\n",
    "\n",
    "    def get_module(self, module_id: str) -> Optional[DharpaModule]:\n",
    "\n",
    "        return self.modules.get(module_id, None)\n",
    "\n",
    "\n",
    "    def __repr__(self) -> str:\n",
    "        return f\"DharpaWorkflow(modules={self.modules})\"\n",
    "\n",
    "\n",
    "\n"
   ]
  },
  {
   "cell_type": "code",
   "execution_count": null,
   "metadata": {},
   "outputs": [
    {
     "name": "stdout",
     "output_type": "stream",
     "text": [
      "Converted 00_core.ipynb.\n",
      "Converted 01_modules.ipynb.\n",
      "Converted 02_workflows.ipynb.\n"
     ]
    }
   ],
   "source": [
    "from dharpa_toolbox.core import export_notebooks\n",
    "export_notebooks()"
   ]
  }
 ],
 "metadata": {
  "kernelspec": {
   "display_name": "Python 3",
   "language": "python",
   "name": "python3"
  }
 },
 "nbformat": 4,
 "nbformat_minor": 0
}
