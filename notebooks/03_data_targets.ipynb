{
 "cells": [
  {
   "cell_type": "code",
   "execution_count": null,
   "metadata": {},
   "outputs": [],
   "source": [
    "# default_exp targets.core"
   ]
  },
  {
   "cell_type": "code",
   "execution_count": null,
   "metadata": {},
   "outputs": [],
   "source": [
    "# export\n",
    "\n",
    "from abc import ABCMeta, abstractmethod\n",
    "from typing import Any\n",
    "from ipywidgets import Widget, Output\n",
    "from traitlets import HasTraits, All\n",
    "from dharpa_toolbox.modules.core import DharpaModule\n",
    "\n",
    "\n",
    "class DataTarget(metaclass=ABCMeta):\n",
    "\n",
    "    def __init__(self, module: DharpaModule):\n",
    "\n",
    "        self._connect_outputs(module.outputs)\n",
    "\n",
    "    @abstractmethod\n",
    "    def _connect_outputs(self, outputs: HasTraits) -> Any:\n",
    "        pass\n",
    "\n",
    "class WidgetTarget(DataTarget):\n",
    "\n",
    "    def __init__(self, module: DharpaModule):\n",
    "\n",
    "        self._widget: Widget = None\n",
    "        super().__init__(module)\n",
    "\n",
    "    def _connect_outputs(self, outputs: HasTraits) -> None:\n",
    "\n",
    "        self._widget = self._create_output_widget(outputs)\n",
    "\n",
    "    @abstractmethod\n",
    "    def _create_output_widget(self) -> Widget:\n",
    "        pass\n",
    "\n",
    "\n",
    "class FileContentWidget(WidgetTarget):\n",
    "\n",
    "    def _create_output_widget(self, outputs: HasTraits) -> Widget:\n",
    "\n",
    "        print(\"Creating output widget\")\n",
    "\n",
    "        output = Output()\n",
    "\n",
    "        def output_value_changed(change):\n",
    "\n",
    "            output.clear_output()\n",
    "\n",
    "            with output:\n",
    "                print(\"XXXXXXXXXXXXXX\")\n",
    "                print(change.new)\n",
    "\n",
    "\n",
    "        outputs.observe(output_value_changed, names=All)\n",
    "        return output\n",
    "\n"
   ]
  },
  {
   "cell_type": "code",
   "execution_count": null,
   "metadata": {},
   "outputs": [
    {
     "name": "stdout",
     "output_type": "stream",
     "text": [
      "Converted 00_core.ipynb.\n",
      "Converted 01_modules_core.ipynb.\n",
      "Converted 02_data_sources.ipynb.\n",
      "Converted 03_data_targets.ipynb.\n",
      "Converted 05_workflows.ipynb.\n",
      "Converted 10_module_subclasses.ipynb.\n",
      "Converted 10_module_subclasses_old.ipynb.\n"
     ]
    }
   ],
   "source": [
    "from dharpa_toolbox.core import export_notebooks\n",
    "export_notebooks()"
   ]
  }
 ],
 "metadata": {
  "kernelspec": {
   "display_name": "Python 3",
   "language": "python",
   "name": "python3"
  }
 },
 "nbformat": 4,
 "nbformat_minor": 0
}
