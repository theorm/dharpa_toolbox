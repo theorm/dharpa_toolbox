{
 "cells": [
  {
   "cell_type": "code",
   "execution_count": null,
   "metadata": {},
   "outputs": [],
   "source": [
    "# default_exp sources.core"
   ]
  },
  {
   "cell_type": "code",
   "execution_count": null,
   "metadata": {},
   "outputs": [],
   "source": [
    "# export\n",
    "\n",
    "from abc import ABCMeta, abstractmethod\n",
    "from typing import Any\n",
    "from ipywidgets import Widget, FileUpload\n",
    "from traitlets import HasTraits\n",
    "from dharpa_toolbox.modules.core import DharpaModule\n",
    "\n",
    "class DataSource(metaclass=ABCMeta):\n",
    "\n",
    "    def __init__(self, module: DharpaModule):\n",
    "\n",
    "        self._connect_inputs(module.inputs)\n",
    "\n",
    "    @abstractmethod\n",
    "    def _connect_inputs(self, inputs: HasTraits) -> None:\n",
    "        pass\n",
    "\n",
    "\n",
    "class WidgetSource(DataSource):\n",
    "\n",
    "    def __init__(self, module: DharpaModule):\n",
    "\n",
    "        self._widget: Widget = None\n",
    "        super().__init__(module)\n",
    "\n",
    "    def _connect_inputs(self, inputs: HasTraits) -> None:\n",
    "\n",
    "        self._widget = self._create_input_widget(inputs)\n",
    "\n",
    "    @abstractmethod\n",
    "    def _create_input_widget(self) -> Widget:\n",
    "        pass\n",
    "\n",
    "\n",
    "class InputFilesWidget(WidgetSource):\n",
    "\n",
    "    def _create_input_widget(self, inputs: HasTraits) -> Widget:\n",
    "        print(\"Creating widget\")\n",
    "\n",
    "        # uploaded_file_details = Output()\n",
    "        file_upload = FileUpload(accept=\".csv\", multiple=False)\n",
    "\n",
    "        def set_module_value(change):\n",
    "\n",
    "            # inputs.files = list(change.new.values())\n",
    "            inputs.files = change.new\n",
    "            # file_upload.value.clear()\n",
    "            file_upload._counter = 0\n",
    "\n",
    "\n",
    "        file_upload.observe(set_module_value, names=\"value\")\n",
    "        return file_upload"
   ]
  },
  {
   "cell_type": "code",
   "execution_count": null,
   "metadata": {},
   "outputs": [
    {
     "name": "stdout",
     "output_type": "stream",
     "text": [
      "Converted 00_core.ipynb.\n",
      "Converted 01_modules_core.ipynb.\n",
      "Converted 02_data_sources.ipynb.\n",
      "Converted 03_data_targets.ipynb.\n",
      "Converted 05_workflows.ipynb.\n",
      "Converted 10_module_subclasses.ipynb.\n",
      "Converted 10_module_subclasses_old.ipynb.\n"
     ]
    }
   ],
   "source": [
    "from dharpa_toolbox.core import export_notebooks\n",
    "export_notebooks()"
   ]
  }
 ],
 "metadata": {
  "kernelspec": {
   "display_name": "Python 3",
   "language": "python",
   "name": "python3"
  }
 },
 "nbformat": 4,
 "nbformat_minor": 0
}
