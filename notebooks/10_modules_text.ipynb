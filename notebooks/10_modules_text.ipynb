{
 "cells": [
  {
   "cell_type": "code",
   "execution_count": null,
   "metadata": {},
   "outputs": [],
   "source": [
    "# default_exp modules.text\n",
    "\n",
    "# export\n",
    "import collections\n",
    "\n",
    "import typing\n",
    "import traitlets\n",
    "from traitlets import HasTraits, Dict, Any, Unicode, Integer, Bytes, Instance, Bool\n",
    "from dharpa_toolbox.modules.core import DharpaModule\n",
    "from dharpa_toolbox.modules.files import DharpaFiles\n",
    "\n",
    "\n",
    "class TextPreprocessSettingsModule(DharpaModule):\n",
    "\n",
    "    _module_name = \"text_preprocess_settings\"\n",
    "\n",
    "    def _create_inputs(self, **config) -> HasTraits:\n",
    "\n",
    "        class TextPreprocessingInput(HasTraits):\n",
    "            file_set = Instance(klass=DharpaFiles, allow_none=True)\n",
    "            lowercase = Bool(default_value=True)\n",
    "\n",
    "        return TextPreprocessingInput()\n",
    "\n",
    "    def _create_outputs(self, **config) -> HasTraits:\n",
    "\n",
    "        class TextPreprocessingSettings(HasTraits):\n",
    "            settings = Dict(allow_none=False)\n",
    "\n",
    "        return TextPreprocessingSettings()\n",
    "\n",
    "    def _process(self, **inputs) -> typing.Mapping[str, typing.Any]:\n",
    "\n",
    "        return {\"settings\": {\"lowercase\": inputs[\"lowercase\"]}}\n",
    "\n",
    "\n",
    "class TextPreprocessingModule(DharpaModule):\n",
    "\n",
    "    _module_name = \"text_preprocessing\"\n",
    "\n",
    "    def _create_inputs(self, **config) -> HasTraits:\n",
    "\n",
    "        class TextPreprocessingInput(HasTraits):\n",
    "            file_set = Instance(klass=DharpaFiles, allow_none=True)\n",
    "            settings = Dict(allow_none=False)\n",
    "\n",
    "        return TextPreprocessingInput()\n",
    "\n",
    "    def _create_outputs(self, **config):\n",
    "\n",
    "        class TextPreprocessingOutput(HasTraits):\n",
    "            preprocessed_text = Dict(allow_none=False)\n",
    "\n",
    "        return TextPreprocessingOutput()\n",
    "\n",
    "    def _process(self, **inputs) -> typing.Mapping[str, typing.Any]:\n",
    "\n",
    "        result = {}\n",
    "        file_set: DharpaFiles = inputs[\"file_set\"]\n",
    "        if file_set is None:\n",
    "            file_set = DharpaFiles()\n",
    "\n",
    "        for f in file_set.files:\n",
    "            result[f.name] = f.content.lower()\n",
    "\n",
    "        return result"
   ]
  },
  {
   "cell_type": "code",
   "execution_count": null,
   "metadata": {},
   "outputs": [
    {
     "name": "stdout",
     "output_type": "stream",
     "text": [
      "Converted 00_core.ipynb.\n",
      "Converted 01_data_types.ipynb.\n",
      "Converted 02_modules_core.ipynb.\n",
      "Converted 03_data_sources.ipynb.\n",
      "Converted 03_data_targets.ipynb.\n",
      "Converted 05_workflows.ipynb.\n",
      "Converted 10_modules_files.ipynb.\n",
      "Converted 10_modules_text.ipynb.\n",
      "Converted 99_utils.ipynb.\n",
      "Converted index.ipynb.\n"
     ]
    }
   ],
   "source": [
    "from dharpa_toolbox.core import export_notebooks\n",
    "export_notebooks()"
   ]
  }
 ],
 "metadata": {
  "kernelspec": {
   "display_name": "Python 3",
   "language": "python",
   "name": "python3"
  }
 },
 "nbformat": 4,
 "nbformat_minor": 0
}
